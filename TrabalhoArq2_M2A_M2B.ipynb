{
  "nbformat": 4,
  "nbformat_minor": 0,
  "metadata": {
    "colab": {
      "provenance": [],
      "include_colab_link": true
    },
    "kernelspec": {
      "name": "python3",
      "display_name": "Python 3"
    },
    "language_info": {
      "name": "python"
    }
  },
  "cells": [
    {
      "cell_type": "markdown",
      "metadata": {
        "id": "view-in-github",
        "colab_type": "text"
      },
      "source": [
        "<a href=\"https://colab.research.google.com/github/Eduardo7660/Organiza-o-M2A-e-M2B/blob/main/TrabalhoArq2_M2A_M2B.ipynb\" target=\"_parent\"><img src=\"https://colab.research.google.com/assets/colab-badge.svg\" alt=\"Open In Colab\"/></a>"
      ]
    },
    {
      "cell_type": "code",
      "source": [
        "from IPython.display import clear_output"
      ],
      "metadata": {
        "id": "PwwFRUkRpzvv"
      },
      "execution_count": null,
      "outputs": []
    },
    {
      "cell_type": "markdown",
      "source": [
        "Classes Utilizadas"
      ],
      "metadata": {
        "id": "r0GTPtQftzkL"
      }
    },
    {
      "cell_type": "code",
      "source": [
        "class LinhaASM:\n",
        "    \"\"\"\n",
        "   Representa uma instrução de asembly.\n",
        "    \"\"\"\n",
        "\n",
        "    def __init__(self):\n",
        "      \"\"\"\n",
        "     Inicializa um objeto LinhaASM vazio.\n",
        "      \"\"\"\n",
        "      #no ruby n precida disso :v\n",
        "      self.instrucao = \"\"  # Complete instruction (32 bits)\n",
        "      self.opcode = \"\"      # Opcode substring\n",
        "      self.rd = \"\"          # rd register substring\n",
        "      self.funct3 = \"\"       # funct3 substring\n",
        "      self.rs1 = \"\"          # rs1 register substring\n",
        "      self.rs2 = \"\"          # rs2 register substring\n",
        "      self.funct7 = \"\"       # funct7 substring\n",
        "      self.tipoInstrucao = \"\"  # Instruction type\n",
        "      self.is_manual_nop = False  # Flag for manual NOP\n"
      ],
      "metadata": {
        "id": "_duBY-1COEjB"
      },
      "execution_count": null,
      "outputs": []
    },
    {
      "cell_type": "code",
      "source": [
        "def contar_nops(programa):\n",
        "    nops = sum(1 for linha in programa if linha.is_manual_nop)\n",
        "    print(f\"TOTAL DE NOPs inseridos: {nops}\")"
      ],
      "metadata": {
        "id": "3d1MInv8lnuF"
      },
      "execution_count": null,
      "outputs": []
    },
    {
      "cell_type": "code",
      "source": [
        "class Organizacao:\n",
        "  \"\"\"\n",
        "Representa a organização do processador.\n",
        "  \"\"\"\n",
        "\n",
        "  def __init__(self):\n",
        "    \"\"\"\n",
        "    Inicializa a organização com valores padrão.\n",
        "  \"\"\"\n",
        "    self.TClock = 1.0  # Clock period\n",
        "    self.freqClock = 1.0 / self.TClock  # Clock frequency (1/TClock)\n",
        "    self.quantCiclos = {\n",
        "        \"U\": 1.0,\n",
        "        \"J\": 1.0,\n",
        "        \"B\": 1.0,\n",
        "        \"I_ar\": 1.0,  # Cycles for arithmetic immediates and ecall\n",
        "        \"I_lo\": 1.0,  # Cycles for load immediates\n",
        "        \"R\": 1.0,\n",
        "        \"S\": 1.0\n",
        "    }"
      ],
      "metadata": {
        "id": "z5rt11W9tpwb"
      },
      "execution_count": null,
      "outputs": []
    },
    {
      "cell_type": "code",
      "source": [
        "class Resultados:\n",
        "  \"\"\"\n",
        " Representa os resultados de desempenho do processador.\n",
        "  \"\"\"\n",
        "\n",
        "  def __init__(self, ciclos_totais = 0, cpi = 0, tempo_exec = 0, desempenho = 0):\n",
        "    \"\"\"\n",
        "   Inicializa o objeto Resultados com os valores especificados.\n",
        "\n",
        "    Argumentos:\n",
        "      ciclos_totais: Total de ciclos de CPU.\n",
        "      cpi: Ciclos por instrução.\n",
        "      tempo_exec: tempo de execução da CPU em segundos.\n",
        "      desempenho: Desempenho em instruções por segundo.\n",
        "    \"\"\"\n",
        "    self.ciclos_totais = ciclos_totais\n",
        "    self.cpi = cpi\n",
        "    self.tempo_exec = tempo_exec\n",
        "    self.desempenho = desempenho"
      ],
      "metadata": {
        "id": "FYxi-eypuRaO"
      },
      "execution_count": null,
      "outputs": []
    },
    {
      "cell_type": "markdown",
      "source": [
        "Funções de calculos"
      ],
      "metadata": {
        "id": "Xxg9prtyt3To"
      }
    },
    {
      "cell_type": "code",
      "source": [
        "def gerar_desempenho(tempo_execucao):\n",
        "  \"\"\"\n",
        " Calcula o desempenho (instruções por segundo) com base no tempo de execução.\n",
        "\n",
        "  Argumento:\n",
        "    tempo_execucao: Tempo de execução em segundos.\n",
        "\n",
        "  Retorna:\n",
        "    Desempenho em instruções por segundo.\n",
        "  \"\"\"\n",
        "  return 1.0 / tempo_execucao\n",
        "\n",
        "def t_exec_cpu_por_tempo_clock(quant_instrucoes, cpi, tempo_clock):\n",
        "    return quant_instrucoes * cpi * tempo_clock\n",
        "\n",
        "def gerar_cpi(ciclos_cpu, quant_instrucoes):\n",
        "  \"\"\"\n",
        " Calcula os ciclos por instrução (CPI) com base no total de ciclos da CPU e na contagem de instruções.\n",
        "\n",
        "  Argumentos:\n",
        "    ciclos_cpu: Total de ciclos de CPU.\n",
        "    quant_instrucoes: Número de instruções.\n",
        "\n",
        "  Retorna:\n",
        "    Ciclos por instrução.\n",
        "  \"\"\"\n",
        "  return (5.0 + (1.0 * (quant_instrucoes - 1))) / quant_instrucoes\n"
      ],
      "metadata": {
        "id": "i-gqSfLYt8gI"
      },
      "execution_count": null,
      "outputs": []
    },
    {
      "cell_type": "markdown",
      "source": [
        "Funções"
      ],
      "metadata": {
        "id": "6tP0MJwpuDzy"
      }
    },
    {
      "cell_type": "code",
      "source": [
        "def verificar_hazards(instrucoes, forwarding_implementado):\n",
        "  \"\"\"\n",
        "  Harzard = PERIGO PERIGO\n",
        "  \"\"\"\n",
        "\n",
        "  print(\"Executando verificação de hazards\")\n",
        "  hazards = []  #Lista para armazenar índices de instruções com perigos\n",
        "\n",
        "  for i in range(len(instrucoes)):\n",
        "    # ignora a instrução se o registrador de destino é o zero ou é um nop\n",
        "    if instrucoes[i].tipo_instrucao != \"S\" and instrucoes[i].rd == \"00000\":\n",
        "      continue\n",
        "\n",
        "    # Verifique se há perigos duas instruções antes de i\n",
        "    for j in range(i + 1, i + 3):\n",
        "      # Ignore a iteração j se ela exceder o número de instruções\n",
        "      if j >= len(instrucoes):\n",
        "        continue\n",
        "\n",
        "      #Ignore a segunda iteração se o encaminhamento for implementado\n",
        "      if j == i + 2 and forwarding_implementado:\n",
        "        continue\n",
        "\n",
        "      # Verifique se há perigo entre as instruções i e j\n",
        "      if verificar_hazard_instrucao(instrucoes[i], instrucoes[j], forwarding_implementado):\n",
        "        print(f\"| Hazard encontrado  {j + 1} da linha inacabada {i + 1}\")\n",
        "        hazards.append(i)\n",
        "\n",
        "  if not hazards:\n",
        "    print(\"Nenhum hazards encontrado\")\n",
        "\n",
        "  print(\"Verificação de hazard concluída com sucesso\")\n",
        "  return hazards\n"
      ],
      "metadata": {
        "id": "hIdQ4mNrPWHK"
      },
      "execution_count": null,
      "outputs": []
    },
    {
      "cell_type": "code",
      "source": [
        "def aplicar_reordenacao(instrucoes, hazards, forwarding_implementado):\n",
        "  \"\"\"\n",
        "  Aplica reordenação de instruções para eliminar hazard.\n",
        "\n",
        "  Argumentos:\n",
        "    instrucoes: Uma lista de objetos LinhaASM que representam as instruções.\n",
        "    hazard: Uma lista de índices de hazard.\n",
        "    forwarding_implementado: Um booleano que indica se o encaminhamento está implementado.\n",
        "\n",
        "  Retorna:\n",
        "    A lista modificada de objetos LinhaASM.\n",
        "  \"\"\"\n",
        "\n",
        "  # Iterar por todos os hazard\n",
        "  for i in range(len(hazards)):\n",
        "    linha_escolhida = None\n",
        "    linha_escolhida_definida = False\n",
        "    indice_linha_escolhida = 0\n",
        "\n",
        "    # Iterar pelas instruções após o hazard\n",
        "    for j in range(i + 1, len(instrucoes)):\n",
        "      # Valida a instrução e move para depois do hazard\n",
        "      if verificar_hazard_instrucao(instrucoes[hazards[i]], instrucoes[j], forwarding_implementado):\n",
        "        continue\n",
        "\n",
        "      # Verifique se há conflitos sem encaminhar para hazard anteriores\n",
        "      if not forwarding_implementado and i > 0:\n",
        "        if verificar_hazard_instrucao(instrucoes[hazards[i] - 1], instrucoes[j], forwarding_implementado):\n",
        "          continue\n",
        "\n",
        "      # Verifique se há conflitos com instruções após a instrução movida\n",
        "      linha_valida_depois = True\n",
        "      for k in range(hazards[i] + 1, hazards[i] + (2 if forwarding_implementado else 1)):\n",
        "        if k >= len(instrucoes):\n",
        "          continue\n",
        "\n",
        "        if verificar_hazard_instrucao(instrucoes[k], instrucoes[j], forwarding_implementado):\n",
        "          linha_valida_depois = False\n",
        "          break\n",
        "\n",
        "      # Valide a instrução antes de movê-la\n",
        "      linha_valida_antes = True\n",
        "      for k in range(j + 1, j + (2 if forwarding_implementado else 1)):\n",
        "        if k >= len(instrucoes):\n",
        "          continue\n",
        "\n",
        "        if verificar_hazard_instrucao(instrucoes[j - 1], instrucoes[k], forwarding_implementado):\n",
        "          linha_valida_antes = False\n",
        "          break\n",
        "\n",
        "      # Se as verificações antes e depois passarem, podemos mover a instrução\n",
        "      if linha_valida_antes and linha_valida_depois:\n",
        "        linha_escolhida = instrucoes[j]\n",
        "        linha_escolhida_definida = True\n",
        "        indice_linha_escolhida = j\n",
        "\n",
        "    # Se uma instrução adequada for encontrada, mova-a\n",
        "    if linha_escolhida_definida:\n",
        "      instrucoes.insert(hazards[i] + 1, linha_escolhida)\n",
        "      instrucoes.remove(instrucoes[indice_linha_escolhida + 1])\n",
        "\n",
        "  return instrucoes\n"
      ],
      "metadata": {
        "id": "EBDMlU261Hpx"
      },
      "execution_count": null,
      "outputs": []
    },
    {
      "cell_type": "code",
      "source": [
        "def verificar_hazard_instrucao(instrucao_origem, instrucao_destino, forwarding_implementado):\n",
        "  \"\"\"\n",
        "  Verifica se há hazard entre duas instruções de assembly.\n",
        "\n",
        "  Argumentos:\n",
        "    instrucao_origem: Objeto LinhaASM representando a instrução de origem.\n",
        "    instrucao_destino: Objeto LinhaASM representando a instrução de destino.\n",
        "    forwarding_implementado: Booleano indicando se o forwarding está implementado.\n",
        "\n",
        "  Retorna:\n",
        "    Booleano indicando se há hazard.\n",
        "  \"\"\"\n",
        "\n",
        "  # Instruções tipo S não causam hazard\n",
        "  if instrucao_origem.tipo_instrucao == \"S\":\n",
        "    return False\n",
        "\n",
        "  # Ignorar NOPs manuais e ecalls\n",
        "  if instrucao_origem.is_manual_nop or instrucao_destino.is_manual_nop or instrucao_destino.instrucao == \"00000000000000000000000001110011\":\n",
        "    return False\n",
        "\n",
        "  # Se o encaminhamento está sendo implementado, verifica apenas hazard de lw\n",
        "  if forwarding_implementado and instrucao_origem.tipo_instrucao != \"I_lo\":\n",
        "    return False\n",
        "\n",
        "  # Verifica hazards para instruções R, I_ar, I_lo, S e B\n",
        "  if instrucao_destino.tipo_instrucao in [\"R\", \"I_ar\", \"I_lo\", \"S\", \"B\"]:\n",
        "    if instrucao_origem.rd == instrucao_destino.rs1:\n",
        "      print(\"RD de origem conflita com rs1!\")\n",
        "      return True\n",
        "\n",
        "  if instrucao_destino.tipo_instrucao in [\"R\", \"S\", \"B\"]:\n",
        "    if instrucao_origem.rd == instrucao_destino.rs2:\n",
        "      print(\"RD de origem conflita com rs2!\")\n",
        "      return True\n",
        "\n",
        "  return False"
      ],
      "metadata": {
        "id": "gCNNxeWGM-Vd"
      },
      "execution_count": null,
      "outputs": []
    },
    {
      "cell_type": "code",
      "source": [
        "def inserir_nops(instrucoes, hazards, forwarding_implementado):\n",
        "  \"\"\"\n",
        "  Insere instruções NOP (No Operation) em um vetor de instruções de assembly.\n",
        "\n",
        "  Argumentos:\n",
        "    instrucoes: Vetor de objetos LinhaASM representando as instruções de assembly.\n",
        "    hazards: Vetor de índices de instruções que possuem hazards.\n",
        "    forwarding_implementado: Booleano indicando se o forwarding está implementado.\n",
        "\n",
        "  Retorna:\n",
        "    Vetor de instruções de assembly modificado com os NOPs inseridos.\n",
        "  \"\"\"\n",
        "\n",
        "  no_operator = LinhaASM()  # Objeto LinhaASM para representar a instrução NOP\n",
        "  no_operator.instrucao = \"00000000000000000000000000110011\"  # Binário da instrução NOP\n",
        "  no_operator.opcode = no_operator.instrucao[25:32]  # Extrai o opcode\n",
        "  no_operator.rd = no_operator.instrucao[20:25]  # Extrai o registrador de destino\n",
        "  no_operator.funct3 = no_operator.instrucao[17:20]  # Extrai o funct3\n",
        "  no_operator.rs1 = no_operator.instrucao[12:17]  # Extrai o registrador de origem 1\n",
        "  no_operator.rs2 = no_operator.instrucao[7:12]  # Extrai o registrador de origem 2\n",
        "  no_operator.funct7 = no_operator.instrucao[0:7]  # Extrai o funct7\n",
        "  no_operator.tipo_instrucao = ler_opcode(no_operator.opcode)  # Determina o tipo de instrução\n",
        "  no_operator.is_manual_nop = True  # Indica que é um NOP manual\n",
        "\n",
        "  # Itera pelos hazards na ordem inversa\n",
        "  for i in range(len(hazards) - 1, -1, -1):\n",
        "    # Determina a quantidade de NOPs a serem inseridos\n",
        "    quant_nops = 2 if not forwarding_implementado else 1\n",
        "\n",
        "    # Itera pelas instruções que podem ter hazards com o hazard atual\n",
        "    for j in range(hazards[i] + 1, hazards[i] + quant_nops + 1):\n",
        "      # Ignora se a iteração ultrapassa o limite de instruções\n",
        "      if j >= len(instrucoes):\n",
        "        continue\n",
        "\n",
        "      # Verifica se há hazard entre a instrução atual e a instrução de destino do hazard\n",
        "      if verificar_hazard_instrucao(instrucoes[hazards[i]], instrucoes[j], forwarding_implementado):\n",
        "        # Insere os NOPs necessários\n",
        "        for _ in range(quant_nops):\n",
        "          #OTO_DANDO_ERRO\n",
        "          instrucoes.insert(i + 1, no_operator)\n",
        "\n",
        "        # Declina a quantidade de NOPs a serem inseridos\n",
        "        quant_nops -= 1\n",
        "\n",
        "    # Exibe mensagem de sucesso\n",
        "    print(\"NO OPERATORS INSERIDOS COM SUCESSO\")\n",
        "\n",
        "    # Retorna as instruções modificadas\n",
        "    return inserir_nops_em_jump(instrucoes)"
      ],
      "metadata": {
        "id": "PZtJ01_gM1AG"
      },
      "execution_count": null,
      "outputs": []
    },
    {
      "cell_type": "code",
      "source": [
        "def ler_arquivo(arquivo):\n",
        "  \"\"\"\n",
        "  Lê instruções assembly de um arquivo e retorna uma lista de objetos LinhaASM.\n",
        "\n",
        "  Argumento:\n",
        "    arquivo: Um objeto de arquivo aberto.\n",
        "\n",
        "  Retorna:\n",
        "    Uma lista de objetos LinhaASM representando as instruções de montagem.\n",
        "  \"\"\"\n",
        "  delimiter = '\\n'\n",
        "  line_number = 0\n",
        "  retorno = []\n",
        "  with open(arquivo, 'r') as f:\n",
        "      for line in f:\n",
        "        line_number += 1\n",
        "        linha_atual = LinhaASM()\n",
        "        linha_atual.instrucao =  line.strip(delimiter)\n",
        "        if len(linha_atual.instrucao) != 32:\n",
        "           raise RuntimeError(f\"Não foi possivel pois a linha: {line_number} não possui 32 digitos, cheque o arquivo.\")\n",
        "\n",
        "        linha_atual.opcode = linha_atual.instrucao[25:32]\n",
        "        linha_atual.rd = linha_atual.instrucao[20:25]\n",
        "        linha_atual.funct3 = linha_atual.instrucao[17:20]\n",
        "        linha_atual.rs1 = linha_atual.instrucao[12:17]\n",
        "        linha_atual.rs2 = linha_atual.instrucao[7:12]\n",
        "        linha_atual.funct7 = linha_atual.instrucao[0:7]\n",
        "        # Determine o tipo de instrução no opcode\n",
        "        linha_atual.tipo_instrucao = ler_opcode(linha_atual.opcode)\n",
        "\n",
        "        retorno.append(linha_atual)\n",
        "\n",
        "  return retorno\n"
      ],
      "metadata": {
        "id": "Xw-22eMrQw8M"
      },
      "execution_count": null,
      "outputs": []
    },
    {
      "cell_type": "code",
      "source": [
        "def ler_opcode(opcode):\n",
        "  \"\"\"\n",
        "  Determina o tipo de instrução com base no opcode.\n",
        "\n",
        "  Argumento:\n",
        "    opcode: Uma string que representa o opcode.\n",
        "\n",
        "  Retorna:\n",
        "    Uma string que representa o tipo de instrução (por exemplo, \"U\", \"J\", \"I_ar\", etc.).\n",
        "  \"\"\"\n",
        "\n",
        "  opcode_map = {\n",
        "      \"0110111\": \"U\",\n",
        "      \"0010111\": \"U\",\n",
        "      \"1101111\": \"J\",\n",
        "      \"1100011\": \"B\",\n",
        "      \"1100111\": \"I_ar\",\n",
        "      \"0010011\": \"I_ar\",\n",
        "      \"0001111\": \"I_ar\",\n",
        "      \"1110011\": \"I_ar\",\n",
        "      \"0000011\": \"I_lo\",\n",
        "      \"0110011\": \"R\",\n",
        "      \"0100011\": \"S\"\n",
        "  }\n",
        "\n",
        "  if opcode in opcode_map:\n",
        "    return opcode_map[opcode]\n",
        "  else:\n",
        "    print(f\"(Aviso) Opcode desconhecido: {opcode}\")\n",
        "    return \"?\"\n"
      ],
      "metadata": {
        "id": "rQhKkh4rUVXM"
      },
      "execution_count": null,
      "outputs": []
    },
    {
      "cell_type": "code",
      "source": [
        "def inserir_nops_em_jump(instrucoes):\n",
        "    \"\"\"\n",
        "   Insere uma instrução NOP antes de cada instrução de salto.\n",
        "\n",
        "    Argumento:\n",
        "      instrucoes: Uma lista de objetos LinhaASM que representam instruções de montagem.\n",
        "\n",
        "    Retorna:\n",
        "      Uma lista de objetos LinhaASM com NOPs inseridos antes dos saltos.\n",
        "    \"\"\"\n",
        "\n",
        "    no_operator = LinhaASM()  # Objeto representando instrução NOP\n",
        "    no_operator.instrucao = \"00000000000000000000000000110011\"\n",
        "    no_operator.is_manual_nop = True\n",
        "\n",
        "    # Iterar pelas instruções na ordem inversa\n",
        "    for i in range(len(instrucoes) - 1, -1, -1):\n",
        "      # Verifique se a instrução atual é um salto\n",
        "      if instrucoes[i].tipo_instrucao == \"J\":\n",
        "        # Insira NOP antes da instrução de salto\n",
        "        instrucoes.insert(i, no_operator)\n",
        "\n",
        "    return instrucoes\n"
      ],
      "metadata": {
        "id": "DL7EIuyBNibZ"
      },
      "execution_count": null,
      "outputs": []
    },
    {
      "cell_type": "markdown",
      "source": [
        "NÃO CONFUNTA 'R' COM 'W' <br>\n",
        "NÃO É RWITE É WRITE  <br>\n",
        "SEMANAS ATRAS DE COMO QUEBRAR LINHA É COMO HTML"
      ],
      "metadata": {
        "id": "gVZwYEbv4LRm"
      }
    },
    {
      "cell_type": "code",
      "source": [
        "def salvar_programa(programa, nome_programa):\n",
        "  \"\"\"\n",
        "Salva as instruções de montagem modificadas em um arquivo.\n",
        "\n",
        "  Argumentos:\n",
        "    programa: Uma lista de objetos LinhaASM que representam as instruções modificadas.\n",
        "    nome_programa: O nome do arquivo de saída.\n",
        "  \"\"\"\n",
        "\n",
        "  # Abra o arquivo de saída no modo de gravação\n",
        "  with open(nome_programa, \"w\") as arquivo_final:\n",
        "    # Check if the file is open\n",
        "\n",
        "    # Escreva cada instrução no arquivo\n",
        "    for linha in programa:\n",
        "      arquivo_final.write(f\"{linha.instrucao}\\n\")\n",
        "\n",
        "  # Imprima uma mensagem de sucesso\n",
        "  print(f\"Instruções salvas com sucesso em {nome_programa}\")"
      ],
      "metadata": {
        "id": "DKK9ksmv4Kic"
      },
      "execution_count": null,
      "outputs": []
    },
    {
      "cell_type": "code",
      "source": [
        "def VisualizarInstrucoes(programa, destacar_nops=True):\n",
        "  \"\"\"\n",
        " Imprime as instruções de montagem com destaque NOP opcional.\n",
        "\n",
        "  Argumentos:\n",
        "    programa: Uma lista de objetos LinhaASM que representam as instruções.\n",
        "    destacar_nops: Um booleano que indica se NOPs devem ser destacados (padrão: True).\n",
        "  \"\"\"\n",
        "\n",
        "  print(\"----------------------\")\n",
        "\n",
        "  for i, instrucao in enumerate(programa, start=1):\n",
        "    print(f\"{i}: {instrucao.instrucao}\", end=\"\")\n",
        "    if destacar_nops and instrucao.is_manual_nop:\n",
        "      print(\" | NOP |\", end=\"\")\n",
        "    print(\"\\n\")\n",
        "\n",
        "  print(\"----------------------\")"
      ],
      "metadata": {
        "id": "5tf_ZPxq5noI"
      },
      "execution_count": null,
      "outputs": []
    },
    {
      "cell_type": "markdown",
      "source": [
        "Inserir o path do arquivo aqui"
      ],
      "metadata": {
        "id": "SuAJduknzNF4"
      }
    },
    {
      "cell_type": "code",
      "source": [
        "def solucao(tecnica):\n",
        "  \"\"\"\n",
        "  Generates a solution to the hazard problem using the specified technique.\n",
        "\n",
        "  Arguments:\n",
        "    tecnica: The technique to use (1, 2, 3, or 4).\n",
        "    nome_fornecido: The name of the input assembly file.\n",
        "\n",
        "  Returns:\n",
        "    A list of LinhaASM objects representing the modified instructions.\n",
        "  \"\"\"\n",
        "  print(f\"\\nExecuting solution {tecnica}\")\n",
        "\n",
        "\n",
        "  path_to_file = \"/content/test.txt\"\n",
        "\n",
        "  if path_to_file == \"batatinha123\":\n",
        "    print(f\"COLOQUE O CAMINHO/DO/ARQUIVO/NOMEDOARQUIVO.TXT\")\n",
        "  else :\n",
        "    # Read the assembly instructions\n",
        "    instrucoes = ler_arquivo(path_to_file)\n",
        "\n",
        "    # Display the original instructions\n",
        "    print(\"Original instructions:\")\n",
        "    VisualizarInstrucoes(instrucoes)\n",
        "\n",
        "    # Initialize variables\n",
        "    falhas = []\n",
        "    forwarding_implementado = False\n",
        "\n",
        "    # Apply the selected technique\n",
        "    if tecnica == 1:\n",
        "      # Technique 1: NOPs M2A\n",
        "      forwarding_implementado = False\n",
        "      falhas = verificar_hazards(instrucoes, forwarding_implementado)\n",
        "      instrucoes = inserir_nops(instrucoes, falhas, forwarding_implementado)\n",
        "      salvar_programa(instrucoes, \"Solucao_1_NOP-SEM-Forward.txt\")\n",
        "\n",
        "    elif tecnica == 2:\n",
        "      # Technique 2: NOPs with forwarding\n",
        "      forwarding_implementado = True\n",
        "      falhas = verificar_hazards(instrucoes, forwarding_implementado)\n",
        "      instrucoes = inserir_nops(instrucoes, falhas, forwarding_implementado)\n",
        "      salvar_programa(instrucoes, \"Solucao_2_NOP-Forward.txt\")\n",
        "\n",
        "    elif tecnica == 3:\n",
        "      # Technique 3: Reordering, NOPs M2A\n",
        "      forwarding_implementado = False\n",
        "      falhas = verificar_hazards(instrucoes, forwarding_implementado)\n",
        "      instrucoes = aplicar_reordenacao(instrucoes, falhas, forwarding_implementado)\n",
        "      falhas = verificar_hazards(instrucoes, forwarding_implementado)\n",
        "      instrucoes = inserir_nops(instrucoes, falhas, forwarding_implementado)\n",
        "      salvar_programa(instrucoes, \"Solucao_3_Reordenamento-NOP-SEM-Forward.txt\")\n",
        "\n",
        "    elif tecnica == 4:\n",
        "      # Technique 4: Reordering, NOPs with forwarding\n",
        "      forwarding_implementado = True\n",
        "      falhas = verificar_hazards(instrucoes, forwarding_implementado)\n",
        "      instrucoes = aplicar_reordenacao(instrucoes, falhas, forwarding_implementado)\n",
        "      falhas = verificar_hazards(instrucoes, forwarding_implementado)\n",
        "      instrucoes = inserir_nops(instrucoes, falhas, forwarding_implementado)\n",
        "      salvar_programa(instrucoes, \"Solucao_4_Reordenamento-NOP-Forward.txt\")\n",
        "\n",
        "    else:\n",
        "      print(f\"[WARNING] Solution {tecnica} not implemented!\")\n",
        "      return []\n",
        "\n",
        "  return instrucoes"
      ],
      "metadata": {
        "id": "hnEQcuqZyjrW"
      },
      "execution_count": null,
      "outputs": []
    },
    {
      "cell_type": "code",
      "source": [
        "def calcular_resultados(programa, organizacao):\n",
        "    resultado = Resultados()\n",
        "\n",
        "    for i in range(len(programa)):\n",
        "        resultado.ciclos_totais += 5 if i == 0 else 1\n",
        "\n",
        "    print(f\"\\nTotal de ciclos: {resultado.ciclos_totais}\\n\")\n",
        "    resultado.cpi = gerar_cpi(resultado.ciclos_totais, len(programa))\n",
        "    resultado.tempo_exec = t_exec_cpu_por_tempo_clock(len(programa), resultado.cpi, organizacao.TClock)\n",
        "    resultado.desempenho = gerar_desempenho(resultado.tempo_exec)\n",
        "\n",
        "    return resultado"
      ],
      "metadata": {
        "id": "D-QHXEUal8Vf"
      },
      "execution_count": null,
      "outputs": []
    },
    {
      "cell_type": "markdown",
      "source": [
        "Main"
      ],
      "metadata": {
        "id": "-GUZS2NFuGnz"
      }
    },
    {
      "cell_type": "markdown",
      "source": [
        "Altere o choice para o tipo de solução:\n",
        "\n",
        "1. Inserção de NOPS\n",
        "\n",
        "2.  Reordenação e inserção de NOPS\n",
        "\n",
        "3. Forwarding e inserção de NOPS\n",
        "\n",
        "4. Forwarding, reordenação e inserção de NOPS\n",
        "\n",
        "<strong> Se der erro aqui altere o path do arquivo </strong>"
      ],
      "metadata": {
        "id": "h-ca_-WUvjXJ"
      }
    },
    {
      "cell_type": "code",
      "source": [
        "clear_output(wait=True)\n",
        "\n",
        "org_a = Organizacao()\n",
        "saida = []\n",
        "\n",
        "choice = 4 # escolha qual o problema a resolver\n",
        "\n",
        "if choice < 1 or choice > 4:\n",
        "  print(f\"Algúm numero que esteja na lista é necessário pra funcionar!!!\")\n",
        "else:\n",
        "  try:\n",
        "    saida = solucao(choice)\n",
        "    resultado = Resultados(calcular_resultados(saida, org_a))\n",
        "    print(\"\\n\")\n",
        "    print(f\"CPI (Ciclos por Instrucao): {resultado.cpi}\\n\")\n",
        "    print(f\"Tempo de execucao: {resultado.tempo_exec}\\n\")\n",
        "    print(f\"Desempenho: {resultado.desempenho}\\n\")\n",
        "  except RuntimeError as e:\n",
        "    clear_output(wait=True)\n",
        "    print(f\"Erro encontrado:\\n\")\n",
        "    print(e)\n",
        "\n",
        "\n",
        "\n"
      ],
      "metadata": {
        "id": "cgVqyxayOC0O",
        "colab": {
          "base_uri": "https://localhost:8080/"
        },
        "outputId": "96a43fcd-e932-4b63-abf0-1595a461a066"
      },
      "execution_count": null,
      "outputs": [
        {
          "output_type": "stream",
          "name": "stdout",
          "text": [
            "\n",
            "Executing solution 4\n",
            "Original instructions:\n",
            "----------------------\n",
            "1: 00000100010000000000000001101111\n",
            "\n",
            "2: 00000010101111111101111001100011\n",
            "\n",
            "3: 00000000000000000000001010110011\n",
            "\n",
            "4: 00000010101100101101011001100011\n",
            "\n",
            "5: 00000000001000101001111010010011\n",
            "\n",
            "6: 00000001110101010000111100110011\n",
            "\n",
            "7: 00000000000011110010001110000011\n",
            "\n",
            "8: 00000000010011110010111000000011\n",
            "\n",
            "9: 00000000011111100100010001100011\n",
            "\n",
            "10: 00000000110000000000000001101111\n",
            "\n",
            "11: 00000001110011110010000000100011\n",
            "\n",
            "12: 00000000011111110010001000100011\n",
            "\n",
            "13: 00000000000100101000001010010011\n",
            "\n",
            "14: 11111101100111111111000001101111\n",
            "\n",
            "15: 00000000000111111000111110010011\n",
            "\n",
            "16: 11111100100111111111000001101111\n",
            "\n",
            "17: 00000000000000001000000011100111\n",
            "\n",
            "18: 00001111110000010000010100010111\n",
            "\n",
            "19: 11111011110001010000010100010011\n",
            "\n",
            "20: 00000000011100000000010110010011\n",
            "\n",
            "21: 11111011010111111111000011101111\n",
            "\n",
            "22: 00000000101000000000100010010011\n",
            "\n",
            "23: 00000000000000000000000001110011\n",
            "\n",
            "----------------------\n",
            "Executando verificação de hazards\n",
            "RD de origem conflita com rs1!\n",
            "| Hazard encontrado  9 da linha inacabada 8\n",
            "Verificação de hazard concluída com sucesso\n",
            "RD de origem conflita com rs2!\n",
            "RD de origem conflita com rs1!\n",
            "RD de origem conflita com rs2!\n",
            "Executando verificação de hazards\n",
            "RD de origem conflita com rs1!\n",
            "| Hazard encontrado  9 da linha inacabada 8\n",
            "Verificação de hazard concluída com sucesso\n",
            "RD de origem conflita com rs1!\n",
            "NO OPERATORS INSERIDOS COM SUCESSO\n",
            "Instruções salvas com sucesso em Solucao_4_Reordenamento-NOP-Forward.txt\n",
            "\n",
            "Total de ciclos: 33\n",
            "\n",
            "\n",
            "\n",
            "CPI (Ciclos por Instrucao): 0\n",
            "\n",
            "Tempo de execucao: 0\n",
            "\n",
            "Desempenho: 0\n",
            "\n"
          ]
        }
      ]
    }
  ]
}